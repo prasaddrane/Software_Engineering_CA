{
 "cells": [
  {
   "cell_type": "code",
   "execution_count": 3,
   "metadata": {},
   "outputs": [
    {
     "ename": "SyntaxError",
     "evalue": "invalid syntax (<ipython-input-3-11a7aae77916>, line 1)",
     "output_type": "error",
     "traceback": [
      "\u001b[1;36m  File \u001b[1;32m\"<ipython-input-3-11a7aae77916>\"\u001b[1;36m, line \u001b[1;32m1\u001b[0m\n\u001b[1;33m    f = open(\"Signal_data.txt\"/E:\\Software Engineering)\u001b[0m\n\u001b[1;37m                                ^\u001b[0m\n\u001b[1;31mSyntaxError\u001b[0m\u001b[1;31m:\u001b[0m invalid syntax\n"
     ]
    }
   ],
   "source": [
    "f = open(\"Signal_data.txt\"/E:\\Software Engineering)\n",
    "text = f.read()\n",
    "f.close()\n",
    "print(text)"
   ]
  },
  {
   "cell_type": "code",
   "execution_count": 9,
   "metadata": {},
   "outputs": [
    {
     "name": "stdout",
     "output_type": "stream",
     "text": [
      "SignalID     Time   ColourFrom  ColourTo\n",
      "O'connel     12:45  Red\t        Green\n",
      "Drumcondra   12:50  Green\tRed\n",
      "DameStreet   12:55  Red\t        Green\n",
      "SignalID     Time   ColourFrom  ColourTo\n",
      "Drumcondra   12:45  Red\t        Green\n",
      "\n"
     ]
    }
   ],
   "source": [
    "f = open(\"E:/Software Engineering/Signal_data.txt\")\n",
    "d = open(\"E:/Software Engineering/Signal1_data.txt\")\n",
    "e= open(\"E:/Software Engineering/Signal2_data.txt\")\n",
    "text = f.read()\n",
    "text1 = d.read()\n",
    "text2 = e.read()\n",
    "f.close()\n",
    "d.close()\n",
    "e.close()\n",
    "print(text)\n",
    "print(text1)\n",
    "print(text2)"
   ]
  },
  {
   "cell_type": "code",
   "execution_count": null,
   "metadata": {},
   "outputs": [],
   "source": []
  }
 ],
 "metadata": {
  "kernelspec": {
   "display_name": "Python 3",
   "language": "python",
   "name": "python3"
  },
  "language_info": {
   "codemirror_mode": {
    "name": "ipython",
    "version": 3
   },
   "file_extension": ".py",
   "mimetype": "text/x-python",
   "name": "python",
   "nbconvert_exporter": "python",
   "pygments_lexer": "ipython3",
   "version": "3.7.3"
  }
 },
 "nbformat": 4,
 "nbformat_minor": 2
}
